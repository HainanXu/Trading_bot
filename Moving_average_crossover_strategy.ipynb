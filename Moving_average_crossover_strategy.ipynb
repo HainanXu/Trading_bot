{
  "nbformat": 4,
  "nbformat_minor": 0,
  "metadata": {
    "colab": {
      "name": "Moving average crossover strategy .ipynb",
      "provenance": []
    },
    "kernelspec": {
      "name": "python3",
      "display_name": "Python 3"
    },
    "language_info": {
      "name": "python"
    }
  },
  "cells": [
    {
      "cell_type": "code",
      "execution_count": null,
      "metadata": {
        "id": "-66huXZ3jhvy"
      },
      "outputs": [],
      "source": [
        "import pandas as pd\n",
        "import matplotlib.pyplot as plt\n"
      ]
    },
    {
      "cell_type": "code",
      "source": [
        "df=pd.read_csv(\"/content/bitcoin_date\")\n",
        "df2=pd.read_csv(\"/content/bitcoin_date\")"
      ],
      "metadata": {
        "id": "X4Kyiqpr6H9A"
      },
      "execution_count": null,
      "outputs": []
    },
    {
      "cell_type": "code",
      "source": [
        "df['MA20']=df['Value'].rolling(20).mean() \n",
        "df['MA50']=df['Value'].rolling(50).mean() \n",
        "df=df.dropna() # drop the values in first 20 days\n",
        "df2=df2[19:]\n",
        "print(df2.index)"
      ],
      "metadata": {
        "id": "pkHiBmak6VVa",
        "colab": {
          "base_uri": "https://localhost:8080/"
        },
        "outputId": "621e64c5-721e-4ac2-885c-1ed2ec1c6109"
      },
      "execution_count": null,
      "outputs": [
        {
          "output_type": "stream",
          "name": "stdout",
          "text": [
            "RangeIndex(start=95, stop=1826, step=1)\n"
          ]
        }
      ]
    },
    {
      "cell_type": "code",
      "source": [
        "df=df[['Value','MA20','MA50']]\n",
        "df"
      ],
      "metadata": {
        "colab": {
          "base_uri": "https://localhost:8080/",
          "height": 423
        },
        "id": "NROQL_zq69b3",
        "outputId": "33fccd7d-7aae-4ebb-a28d-2c209ccab8ec"
      },
      "execution_count": null,
      "outputs": [
        {
          "output_type": "execute_result",
          "data": {
            "text/html": [
              "\n",
              "  <div id=\"df-c83cc715-fb30-43c4-9811-c9c4e3bcd2f6\">\n",
              "    <div class=\"colab-df-container\">\n",
              "      <div>\n",
              "<style scoped>\n",
              "    .dataframe tbody tr th:only-of-type {\n",
              "        vertical-align: middle;\n",
              "    }\n",
              "\n",
              "    .dataframe tbody tr th {\n",
              "        vertical-align: top;\n",
              "    }\n",
              "\n",
              "    .dataframe thead th {\n",
              "        text-align: right;\n",
              "    }\n",
              "</style>\n",
              "<table border=\"1\" class=\"dataframe\">\n",
              "  <thead>\n",
              "    <tr style=\"text-align: right;\">\n",
              "      <th></th>\n",
              "      <th>Value</th>\n",
              "      <th>MA20</th>\n",
              "      <th>MA50</th>\n",
              "    </tr>\n",
              "  </thead>\n",
              "  <tbody>\n",
              "    <tr>\n",
              "      <th>19</th>\n",
              "      <td>609.39</td>\n",
              "      <td>601.985</td>\n",
              "      <td>606.3935</td>\n",
              "    </tr>\n",
              "    <tr>\n",
              "      <th>20</th>\n",
              "      <td>614.82</td>\n",
              "      <td>603.579</td>\n",
              "      <td>606.0520</td>\n",
              "    </tr>\n",
              "    <tr>\n",
              "      <th>21</th>\n",
              "      <td>612.98</td>\n",
              "      <td>605.135</td>\n",
              "      <td>606.2175</td>\n",
              "    </tr>\n",
              "    <tr>\n",
              "      <th>22</th>\n",
              "      <td>611.85</td>\n",
              "      <td>606.912</td>\n",
              "      <td>606.2640</td>\n",
              "    </tr>\n",
              "    <tr>\n",
              "      <th>23</th>\n",
              "      <td>609.62</td>\n",
              "      <td>607.486</td>\n",
              "      <td>606.3040</td>\n",
              "    </tr>\n",
              "    <tr>\n",
              "      <th>...</th>\n",
              "      <td>...</td>\n",
              "      <td>...</td>\n",
              "      <td>...</td>\n",
              "    </tr>\n",
              "    <tr>\n",
              "      <th>1821</th>\n",
              "      <td>51769.06</td>\n",
              "      <td>49093.547</td>\n",
              "      <td>48394.7485</td>\n",
              "    </tr>\n",
              "    <tr>\n",
              "      <th>1822</th>\n",
              "      <td>52677.40</td>\n",
              "      <td>49455.601</td>\n",
              "      <td>48796.1900</td>\n",
              "    </tr>\n",
              "    <tr>\n",
              "      <th>1823</th>\n",
              "      <td>46809.17</td>\n",
              "      <td>49246.753</td>\n",
              "      <td>48897.7555</td>\n",
              "    </tr>\n",
              "    <tr>\n",
              "      <th>1824</th>\n",
              "      <td>46078.38</td>\n",
              "      <td>48973.913</td>\n",
              "      <td>48864.9420</td>\n",
              "    </tr>\n",
              "    <tr>\n",
              "      <th>1825</th>\n",
              "      <td>46368.69</td>\n",
              "      <td>48903.305</td>\n",
              "      <td>48716.9890</td>\n",
              "    </tr>\n",
              "  </tbody>\n",
              "</table>\n",
              "<p>1807 rows × 3 columns</p>\n",
              "</div>\n",
              "      <button class=\"colab-df-convert\" onclick=\"convertToInteractive('df-c83cc715-fb30-43c4-9811-c9c4e3bcd2f6')\"\n",
              "              title=\"Convert this dataframe to an interactive table.\"\n",
              "              style=\"display:none;\">\n",
              "        \n",
              "  <svg xmlns=\"http://www.w3.org/2000/svg\" height=\"24px\"viewBox=\"0 0 24 24\"\n",
              "       width=\"24px\">\n",
              "    <path d=\"M0 0h24v24H0V0z\" fill=\"none\"/>\n",
              "    <path d=\"M18.56 5.44l.94 2.06.94-2.06 2.06-.94-2.06-.94-.94-2.06-.94 2.06-2.06.94zm-11 1L8.5 8.5l.94-2.06 2.06-.94-2.06-.94L8.5 2.5l-.94 2.06-2.06.94zm10 10l.94 2.06.94-2.06 2.06-.94-2.06-.94-.94-2.06-.94 2.06-2.06.94z\"/><path d=\"M17.41 7.96l-1.37-1.37c-.4-.4-.92-.59-1.43-.59-.52 0-1.04.2-1.43.59L10.3 9.45l-7.72 7.72c-.78.78-.78 2.05 0 2.83L4 21.41c.39.39.9.59 1.41.59.51 0 1.02-.2 1.41-.59l7.78-7.78 2.81-2.81c.8-.78.8-2.07 0-2.86zM5.41 20L4 18.59l7.72-7.72 1.47 1.35L5.41 20z\"/>\n",
              "  </svg>\n",
              "      </button>\n",
              "      \n",
              "  <style>\n",
              "    .colab-df-container {\n",
              "      display:flex;\n",
              "      flex-wrap:wrap;\n",
              "      gap: 12px;\n",
              "    }\n",
              "\n",
              "    .colab-df-convert {\n",
              "      background-color: #E8F0FE;\n",
              "      border: none;\n",
              "      border-radius: 50%;\n",
              "      cursor: pointer;\n",
              "      display: none;\n",
              "      fill: #1967D2;\n",
              "      height: 32px;\n",
              "      padding: 0 0 0 0;\n",
              "      width: 32px;\n",
              "    }\n",
              "\n",
              "    .colab-df-convert:hover {\n",
              "      background-color: #E2EBFA;\n",
              "      box-shadow: 0px 1px 2px rgba(60, 64, 67, 0.3), 0px 1px 3px 1px rgba(60, 64, 67, 0.15);\n",
              "      fill: #174EA6;\n",
              "    }\n",
              "\n",
              "    [theme=dark] .colab-df-convert {\n",
              "      background-color: #3B4455;\n",
              "      fill: #D2E3FC;\n",
              "    }\n",
              "\n",
              "    [theme=dark] .colab-df-convert:hover {\n",
              "      background-color: #434B5C;\n",
              "      box-shadow: 0px 1px 3px 1px rgba(0, 0, 0, 0.15);\n",
              "      filter: drop-shadow(0px 1px 2px rgba(0, 0, 0, 0.3));\n",
              "      fill: #FFFFFF;\n",
              "    }\n",
              "  </style>\n",
              "\n",
              "      <script>\n",
              "        const buttonEl =\n",
              "          document.querySelector('#df-c83cc715-fb30-43c4-9811-c9c4e3bcd2f6 button.colab-df-convert');\n",
              "        buttonEl.style.display =\n",
              "          google.colab.kernel.accessAllowed ? 'block' : 'none';\n",
              "\n",
              "        async function convertToInteractive(key) {\n",
              "          const element = document.querySelector('#df-c83cc715-fb30-43c4-9811-c9c4e3bcd2f6');\n",
              "          const dataTable =\n",
              "            await google.colab.kernel.invokeFunction('convertToInteractive',\n",
              "                                                     [key], {});\n",
              "          if (!dataTable) return;\n",
              "\n",
              "          const docLinkHtml = 'Like what you see? Visit the ' +\n",
              "            '<a target=\"_blank\" href=https://colab.research.google.com/notebooks/data_table.ipynb>data table notebook</a>'\n",
              "            + ' to learn more about interactive tables.';\n",
              "          element.innerHTML = '';\n",
              "          dataTable['output_type'] = 'display_data';\n",
              "          await google.colab.output.renderOutput(dataTable, element);\n",
              "          const docLink = document.createElement('div');\n",
              "          docLink.innerHTML = docLinkHtml;\n",
              "          element.appendChild(docLink);\n",
              "        }\n",
              "      </script>\n",
              "    </div>\n",
              "  </div>\n",
              "  "
            ],
            "text/plain": [
              "         Value       MA20        MA50\n",
              "19      609.39    601.985    606.3935\n",
              "20      614.82    603.579    606.0520\n",
              "21      612.98    605.135    606.2175\n",
              "22      611.85    606.912    606.2640\n",
              "23      609.62    607.486    606.3040\n",
              "...        ...        ...         ...\n",
              "1821  51769.06  49093.547  48394.7485\n",
              "1822  52677.40  49455.601  48796.1900\n",
              "1823  46809.17  49246.753  48897.7555\n",
              "1824  46078.38  48973.913  48864.9420\n",
              "1825  46368.69  48903.305  48716.9890\n",
              "\n",
              "[1807 rows x 3 columns]"
            ]
          },
          "metadata": {},
          "execution_count": 34
        }
      ]
    },
    {
      "cell_type": "code",
      "source": [
        "#buying signal:if the moving average of 20 days is above moving average of 50 days, but less than the day before.\n",
        "#selling signal: if the moving average of 50 days is above moving avg of 20 days, but isn't the day before\n",
        "Buy=[]\n",
        "Sell=[]\n",
        "\n",
        "for i in range(len(df)):\n",
        "  if df.MA20.iloc[i] > df.MA50.iloc[i]\\\n",
        "  and df.MA20.iloc[i-1] < df.MA50.iloc[i-1]:\n",
        "    Buy.append(i)\n",
        "  elif df.MA20.iloc[i]<df.MA50.iloc[i]\\\n",
        "  and df.MA20.iloc[i-1]>df.MA50.iloc[i-1]:\n",
        "    Sell.append(i)\n"
      ],
      "metadata": {
        "id": "rHeEsJEL7Lk0"
      },
      "execution_count": null,
      "outputs": []
    },
    {
      "cell_type": "code",
      "source": [
        "Buy"
      ],
      "metadata": {
        "colab": {
          "base_uri": "https://localhost:8080/"
        },
        "id": "H2q9Km_A80SD",
        "outputId": "10b9d183-7415-4500-b91e-a6584cac7283"
      },
      "execution_count": null,
      "outputs": [
        {
          "output_type": "execute_result",
          "data": {
            "text/plain": [
              "[3,\n",
              " 116,\n",
              " 186,\n",
              " 298,\n",
              " 363,\n",
              " 464,\n",
              " 505,\n",
              " 563,\n",
              " 619,\n",
              " 645,\n",
              " 695,\n",
              " 723,\n",
              " 753,\n",
              " 772,\n",
              " 814,\n",
              " 832,\n",
              " 865,\n",
              " 895,\n",
              " 991,\n",
              " 1040,\n",
              " 1074,\n",
              " 1110,\n",
              " 1124,\n",
              " 1167,\n",
              " 1184,\n",
              " 1276,\n",
              " 1303,\n",
              " 1343,\n",
              " 1382,\n",
              " 1391,\n",
              " 1451,\n",
              " 1470,\n",
              " 1589,\n",
              " 1623,\n",
              " 1647,\n",
              " 1679,\n",
              " 1720,\n",
              " 1741,\n",
              " 1762]"
            ]
          },
          "metadata": {},
          "execution_count": 36
        }
      ]
    },
    {
      "cell_type": "code",
      "source": [
        "Sell"
      ],
      "metadata": {
        "colab": {
          "base_uri": "https://localhost:8080/"
        },
        "id": "zgc2W5bZ92Qa",
        "outputId": "9914596a-b66d-4e9f-dc83-7a80c75d92b0"
      },
      "execution_count": null,
      "outputs": [
        {
          "output_type": "execute_result",
          "data": {
            "text/plain": [
              "[0,\n",
              " 104,\n",
              " 167,\n",
              " 263,\n",
              " 346,\n",
              " 452,\n",
              " 473,\n",
              " 527,\n",
              " 590,\n",
              " 620,\n",
              " 675,\n",
              " 711,\n",
              " 738,\n",
              " 761,\n",
              " 776,\n",
              " 827,\n",
              " 836,\n",
              " 887,\n",
              " 982,\n",
              " 1021,\n",
              " 1053,\n",
              " 1085,\n",
              " 1115,\n",
              " 1140,\n",
              " 1169,\n",
              " 1242,\n",
              " 1299,\n",
              " 1334,\n",
              " 1355,\n",
              " 1390,\n",
              " 1428,\n",
              " 1461,\n",
              " 1575,\n",
              " 1615,\n",
              " 1639,\n",
              " 1667,\n",
              " 1689,\n",
              " 1729,\n",
              " 1747]"
            ]
          },
          "metadata": {},
          "execution_count": 37
        }
      ]
    },
    {
      "cell_type": "code",
      "source": [
        "plt.figure(figsize=[20,7])\n",
        "plt.plot(df['Value'],label='Asset Price',c='blue', alpha=0.5)\n",
        "plt.plot(df['MA20'],label='MA20',c='k',alpha=0.9)\n",
        "plt.plot(df['MA50'],label='MA50',c='magenta',alpha=0.9)\n",
        "plt.scatter(df.iloc[Buy].index,df.iloc[Buy]['Value'],marker=\"^\",color='g',s=100)\n",
        "plt.scatter(df.iloc[Sell].index,df.iloc[Buy]['Value'],marker=\"v\",color='r',s=100)\n",
        "plt.legend()\n",
        "plt.show()"
      ],
      "metadata": {
        "colab": {
          "base_uri": "https://localhost:8080/",
          "height": 401
        },
        "id": "wJLTHJ07931a",
        "outputId": "554bb7ba-600a-4cde-e91b-455e7a811719"
      },
      "execution_count": null,
      "outputs": [
        {
          "output_type": "display_data",
          "data": {
            "image/png": "[encoded data removed]",
            "text/plain": [
              "<Figure size 1440x504 with 1 Axes>"
            ]
          },
          "metadata": {
            "needs_background": "light"
          }
        }
      ]
    },
    {
      "cell_type": "code",
      "source": [
        "amount=1000#initial amount of money\n",
        "allocated_money=0\n",
        "portfolio=0#inital number of bitcoins we held\n",
        "money_end=amount#money that we have after the trade\n",
        "investment=[]#a list that track the investment\n",
        "transaction_rate=0.02#transaction fee rate\n",
        "\n",
        "transaction_cost=[]\n",
        "\n",
        "\n",
        "core_to_trade=True\n",
        "core_quantity=0"
      ],
      "metadata": {
        "id": "wlrJuc2WykLD"
      },
      "execution_count": null,
      "outputs": []
    },
    {
      "cell_type": "code",
      "source": [
        "#trading simulation function\n",
        "def buy(quantity,price):\n",
        "  global portfolio,money_end\n",
        "  allocated_money=quantity*price  #money is being traded=quantitiy of bitcoin*price of the bitcoin\n",
        "  money_end=money_end-allocated_money-transaction_rate*allocated_money\n",
        "  portfolio += quantity\n",
        "  transaction_cost.append(transaction_rate*allocated_money)\n",
        "  if investment == []:\n",
        "    investment.append(allocated_money)\n",
        "  else:\n",
        "    investment.append(allocated_money)\n",
        "    investment[-1]+= investment[-2]\n",
        "\n",
        "    return(money_end,portfolio,transaction_cost)"
      ],
      "metadata": {
        "id": "Sn_ZnDrtys9H"
      },
      "execution_count": null,
      "outputs": []
    },
    {
      "cell_type": "code",
      "source": [
        ""
      ],
      "metadata": {
        "colab": {
          "base_uri": "https://localhost:8080/",
          "height": 365
        },
        "id": "n9SZ6QrMywiW",
        "outputId": "25491fcb-cee2-4a40-97b5-1fef737669ab"
      },
      "execution_count": null,
      "outputs": [
        {
          "output_type": "error",
          "ename": "IndexError",
          "evalue": "ignored",
          "traceback": [
            "\u001b[0;31m---------------------------------------------------------------------------\u001b[0m",
            "\u001b[0;31mIndexError\u001b[0m                                Traceback (most recent call last)",
            "\u001b[0;32m<ipython-input-48-edc275bd490d>\u001b[0m in \u001b[0;36m<module>\u001b[0;34m()\u001b[0m\n\u001b[1;32m      1\u001b[0m \u001b[0;32mfor\u001b[0m \u001b[0mi\u001b[0m \u001b[0;32min\u001b[0m \u001b[0mBuy\u001b[0m\u001b[0;34m:\u001b[0m\u001b[0;34m\u001b[0m\u001b[0;34m\u001b[0m\u001b[0m\n\u001b[1;32m      2\u001b[0m   \u001b[0;32mfor\u001b[0m \u001b[0mb\u001b[0m \u001b[0;32min\u001b[0m \u001b[0mdf\u001b[0m\u001b[0;34m.\u001b[0m\u001b[0mindex\u001b[0m\u001b[0;34m:\u001b[0m\u001b[0;34m\u001b[0m\u001b[0;34m\u001b[0m\u001b[0m\n\u001b[0;32m----> 3\u001b[0;31m     \u001b[0;32mif\u001b[0m \u001b[0mi\u001b[0m \u001b[0;34m==\u001b[0m \u001b[0mdf\u001b[0m\u001b[0;34m.\u001b[0m\u001b[0mindex\u001b[0m\u001b[0;34m[\u001b[0m\u001b[0mb\u001b[0m\u001b[0;34m]\u001b[0m\u001b[0;34m:\u001b[0m\u001b[0;34m\u001b[0m\u001b[0;34m\u001b[0m\u001b[0m\n\u001b[0m\u001b[1;32m      4\u001b[0m       \u001b[0mBuy\u001b[0m\u001b[0;34m(\u001b[0m\u001b[0;36m1\u001b[0m\u001b[0;34m,\u001b[0m\u001b[0mdf2\u001b[0m\u001b[0;34m.\u001b[0m\u001b[0mindex\u001b[0m\u001b[0;34m)\u001b[0m\u001b[0;34m\u001b[0m\u001b[0;34m\u001b[0m\u001b[0m\n\u001b[1;32m      5\u001b[0m   \u001b[0mprint\u001b[0m\u001b[0;34m(\u001b[0m\u001b[0minvestment\u001b[0m\u001b[0;34m)\u001b[0m\u001b[0;34m\u001b[0m\u001b[0;34m\u001b[0m\u001b[0m\n",
            "\u001b[0;32m/usr/local/lib/python3.7/dist-packages/pandas/core/indexes/base.py\u001b[0m in \u001b[0;36m__getitem__\u001b[0;34m(self, key)\u001b[0m\n\u001b[1;32m   4602\u001b[0m         \u001b[0;32mif\u001b[0m \u001b[0mis_scalar\u001b[0m\u001b[0;34m(\u001b[0m\u001b[0mkey\u001b[0m\u001b[0;34m)\u001b[0m\u001b[0;34m:\u001b[0m\u001b[0;34m\u001b[0m\u001b[0;34m\u001b[0m\u001b[0m\n\u001b[1;32m   4603\u001b[0m             \u001b[0mkey\u001b[0m \u001b[0;34m=\u001b[0m \u001b[0mcom\u001b[0m\u001b[0;34m.\u001b[0m\u001b[0mcast_scalar_indexer\u001b[0m\u001b[0;34m(\u001b[0m\u001b[0mkey\u001b[0m\u001b[0;34m,\u001b[0m \u001b[0mwarn_float\u001b[0m\u001b[0;34m=\u001b[0m\u001b[0;32mTrue\u001b[0m\u001b[0;34m)\u001b[0m\u001b[0;34m\u001b[0m\u001b[0;34m\u001b[0m\u001b[0m\n\u001b[0;32m-> 4604\u001b[0;31m             \u001b[0;32mreturn\u001b[0m \u001b[0mgetitem\u001b[0m\u001b[0;34m(\u001b[0m\u001b[0mkey\u001b[0m\u001b[0;34m)\u001b[0m\u001b[0;34m\u001b[0m\u001b[0;34m\u001b[0m\u001b[0m\n\u001b[0m\u001b[1;32m   4605\u001b[0m \u001b[0;34m\u001b[0m\u001b[0m\n\u001b[1;32m   4606\u001b[0m         \u001b[0;32mif\u001b[0m \u001b[0misinstance\u001b[0m\u001b[0;34m(\u001b[0m\u001b[0mkey\u001b[0m\u001b[0;34m,\u001b[0m \u001b[0mslice\u001b[0m\u001b[0;34m)\u001b[0m\u001b[0;34m:\u001b[0m\u001b[0;34m\u001b[0m\u001b[0;34m\u001b[0m\u001b[0m\n",
            "\u001b[0;31mIndexError\u001b[0m: index 1807 is out of bounds for axis 0 with size 1807"
          ]
        }
      ]
    },
    {
      "cell_type": "code",
      "source": [
        ""
      ],
      "metadata": {
        "id": "x2J0z-x2ywlR"
      },
      "execution_count": null,
      "outputs": []
    },
    {
      "cell_type": "code",
      "source": [
        ""
      ],
      "metadata": {
        "colab": {
          "base_uri": "https://localhost:8080/"
        },
        "id": "merg6UMXywnn",
        "outputId": "c384a45a-d037-4400-d12b-a3431a80826f"
      },
      "execution_count": null,
      "outputs": [
        {
          "output_type": "execute_result",
          "data": {
            "text/plain": [
              "Int64Index([  19,   20,   21,   22,   23,   24,   25,   26,   27,   28,\n",
              "            ...\n",
              "            1816, 1817, 1818, 1819, 1820, 1821, 1822, 1823, 1824, 1825],\n",
              "           dtype='int64', length=1807)"
            ]
          },
          "metadata": {},
          "execution_count": 31
        }
      ]
    },
    {
      "cell_type": "code",
      "source": [
        ""
      ],
      "metadata": {
        "id": "sbYRK2bVywuZ"
      },
      "execution_count": null,
      "outputs": []
    },
    {
      "cell_type": "code",
      "source": [
        ""
      ],
      "metadata": {
        "id": "o7KuudQ3ytFI"
      },
      "execution_count": null,
      "outputs": []
    },
    {
      "cell_type": "code",
      "source": [
        ""
      ],
      "metadata": {
        "id": "CtU1XAwoytIJ"
      },
      "execution_count": null,
      "outputs": []
    },
    {
      "cell_type": "code",
      "source": [
        ""
      ],
      "metadata": {
        "id": "TgDkd9Ak_TXd",
        "colab": {
          "base_uri": "https://localhost:8080/",
          "height": 133
        },
        "outputId": "91a92afd-2f7e-4000-feea-37004de06923"
      },
      "execution_count": null,
      "outputs": [
        {
          "output_type": "error",
          "ename": "SyntaxError",
          "evalue": "ignored",
          "traceback": [
            "\u001b[0;36m  File \u001b[0;32m\"<ipython-input-16-3aef33d8a4a3>\"\u001b[0;36m, line \u001b[0;32m2\u001b[0m\n\u001b[0;31m    if .. is ..., buy:\u001b[0m\n\u001b[0m       ^\u001b[0m\n\u001b[0;31mSyntaxError\u001b[0m\u001b[0;31m:\u001b[0m invalid syntax\n"
          ]
        }
      ]
    }
  ]
}